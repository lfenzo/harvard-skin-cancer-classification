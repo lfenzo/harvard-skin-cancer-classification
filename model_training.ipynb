{
 "cells": [
  {
   "cell_type": "code",
   "execution_count": 1,
   "id": "9dbbb620-ec40-4c7a-9d92-4301ff00e937",
   "metadata": {
    "execution": {
     "iopub.execute_input": "2024-06-13T22:25:11.365850Z",
     "iopub.status.busy": "2024-06-13T22:25:11.365768Z",
     "iopub.status.idle": "2024-06-13T22:25:11.371302Z",
     "shell.execute_reply": "2024-06-13T22:25:11.371076Z",
     "shell.execute_reply.started": "2024-06-13T22:25:11.365842Z"
    }
   },
   "outputs": [],
   "source": [
    "%load_ext autoreload\n",
    "%autoreload 2"
   ]
  },
  {
   "cell_type": "code",
   "execution_count": 2,
   "id": "9ff0087a-fe17-4621-879a-452bf21661ab",
   "metadata": {
    "execution": {
     "iopub.execute_input": "2024-06-13T22:25:11.371567Z",
     "iopub.status.busy": "2024-06-13T22:25:11.371498Z",
     "iopub.status.idle": "2024-06-13T22:25:12.398982Z",
     "shell.execute_reply": "2024-06-13T22:25:12.398714Z",
     "shell.execute_reply.started": "2024-06-13T22:25:11.371560Z"
    }
   },
   "outputs": [],
   "source": [
    "import pandas as pd\n",
    "import torch\n",
    "from torch.utils.data import DataLoader\n",
    "from torchvision.transforms import v2\n",
    "from PIL import Image\n",
    "from torch import nn, optim\n",
    "\n",
    "from src.modeling.models import DenseNet, Inception, ResNet\n",
    "from src.dataset import utils\n",
    "from src.dataset.harvard_skin_cancer import HarvardSkinCancerDatasset"
   ]
  },
  {
   "cell_type": "code",
   "execution_count": 3,
   "id": "f54fe198-b695-4965-822d-fce306b9baa0",
   "metadata": {
    "execution": {
     "iopub.execute_input": "2024-06-13T22:25:12.399764Z",
     "iopub.status.busy": "2024-06-13T22:25:12.399611Z",
     "iopub.status.idle": "2024-06-13T22:25:12.439675Z",
     "shell.execute_reply": "2024-06-13T22:25:12.439475Z",
     "shell.execute_reply.started": "2024-06-13T22:25:12.399756Z"
    }
   },
   "outputs": [],
   "source": [
    "df_train = pd.read_csv('artifacts/df_train.csv')\n",
    "df_valid = pd.read_csv('artifacts/df_valid.csv')\n",
    "df_test = pd.read_csv('artifacts/df_test.csv')"
   ]
  },
  {
   "cell_type": "markdown",
   "id": "b7bbe16e-53e6-4140-be17-4fd7ee040089",
   "metadata": {},
   "source": [
    "## Model Creation"
   ]
  },
  {
   "cell_type": "code",
   "execution_count": 11,
   "id": "031e08b9-77a9-45a6-b6eb-754e375f7efb",
   "metadata": {
    "execution": {
     "iopub.execute_input": "2024-06-13T22:34:40.523268Z",
     "iopub.status.busy": "2024-06-13T22:34:40.523147Z",
     "iopub.status.idle": "2024-06-13T22:34:40.687742Z",
     "shell.execute_reply": "2024-06-13T22:34:40.687516Z",
     "shell.execute_reply.started": "2024-06-13T22:34:40.523260Z"
    }
   },
   "outputs": [],
   "source": [
    "model = ResNet(n_classes = df_train['lesion_type_id'].nunique(), extract_features=True)\n",
    "\n",
    "device = model.device\n",
    "\n",
    "optimizer = optim.Adam(model.parameters())\n",
    "criterion = nn.CrossEntropyLoss()"
   ]
  },
  {
   "cell_type": "markdown",
   "id": "066a1962-4adb-4815-ba8d-46a66cb03a0a",
   "metadata": {},
   "source": [
    "## Preparing DataLoaders"
   ]
  },
  {
   "cell_type": "code",
   "execution_count": 5,
   "id": "bd9fe966-a24f-4119-a272-734f8bc1219b",
   "metadata": {
    "execution": {
     "iopub.execute_input": "2024-06-13T22:25:12.652888Z",
     "iopub.status.busy": "2024-06-13T22:25:12.652763Z",
     "iopub.status.idle": "2024-06-13T22:25:38.815823Z",
     "shell.execute_reply": "2024-06-13T22:25:38.815561Z",
     "shell.execute_reply.started": "2024-06-13T22:25:12.652876Z"
    }
   },
   "outputs": [
    {
     "name": "stderr",
     "output_type": "stream",
     "text": [
      "100%|███████████████████████████████████████████████████████████████████████████████████████████████████████████████████████████████████████████| 8912/8912 [00:20<00:00, 437.54it/s]\n"
     ]
    },
    {
     "data": {
      "text/plain": [
       "[0.7579861, 0.54822993, 0.57350165]"
      ]
     },
     "metadata": {},
     "output_type": "display_data"
    },
    {
     "data": {
      "text/plain": [
       "[0.14163895, 0.15279482, 0.17041847]"
      ]
     },
     "metadata": {},
     "output_type": "display_data"
    }
   ],
   "source": [
    "means, stds = utils.extract_mean_and_std_from_images(img_paths=df_train['path'].drop_duplicates())\n",
    "display(means)\n",
    "display(stds)"
   ]
  },
  {
   "cell_type": "code",
   "execution_count": 6,
   "id": "984193f8-bb0b-44c1-8a9d-764b97434af5",
   "metadata": {
    "execution": {
     "iopub.execute_input": "2024-06-13T22:25:38.816205Z",
     "iopub.status.busy": "2024-06-13T22:25:38.816132Z",
     "iopub.status.idle": "2024-06-13T22:25:38.826529Z",
     "shell.execute_reply": "2024-06-13T22:25:38.826369Z",
     "shell.execute_reply.started": "2024-06-13T22:25:38.816198Z"
    }
   },
   "outputs": [
    {
     "data": {
      "text/plain": [
       "Compose(\n",
       "      Resize(size=[224, 224], interpolation=InterpolationMode.BILINEAR, antialias=True)\n",
       "      RandomHorizontalFlip(p=0.5)\n",
       "      RandomVerticalFlip(p=0.5)\n",
       "      RandomRotation(degrees=[-20.0, 20.0], interpolation=InterpolationMode.NEAREST, expand=False, fill=0)\n",
       "      ColorJitter(brightness=(0.9, 1.1), contrast=(0.9, 1.1), hue=(-0.1, 0.1))\n",
       "      ToImage()\n",
       "      ToDtype(scale=True)\n",
       "      Normalize(mean=[0.7579861, 0.54822993, 0.57350165], std=[0.14163895, 0.15279482, 0.17041847], inplace=False)\n",
       ")"
      ]
     },
     "execution_count": 6,
     "metadata": {},
     "output_type": "execute_result"
    }
   ],
   "source": [
    "transforms = v2.Compose([\n",
    "    v2.Resize((model.input_size, model.input_size)),\n",
    "    v2.RandomHorizontalFlip(),\n",
    "    v2.RandomVerticalFlip(),\n",
    "    v2.RandomRotation(20),\n",
    "    v2.ColorJitter(brightness=0.1, contrast=0.1, hue=0.1),\n",
    "    v2.ToImage(),\n",
    "    v2.ToDtype(torch.float32, scale=True),\n",
    "    v2.Normalize(mean=means, std=stds),\n",
    "])\n",
    "\n",
    "transforms"
   ]
  },
  {
   "cell_type": "code",
   "execution_count": 9,
   "id": "635a3bad-c440-4078-a438-6cde5f4a8c67",
   "metadata": {
    "execution": {
     "iopub.execute_input": "2024-06-13T22:34:00.877566Z",
     "iopub.status.busy": "2024-06-13T22:34:00.877436Z",
     "iopub.status.idle": "2024-06-13T22:34:00.889228Z",
     "shell.execute_reply": "2024-06-13T22:34:00.889021Z",
     "shell.execute_reply.started": "2024-06-13T22:34:00.877556Z"
    }
   },
   "outputs": [],
   "source": [
    "train_loader = DataLoader(\n",
    "    dataset=HarvardSkinCancerDatasset(df=df_train, transforms=transforms),\n",
    "    batch_size=64,\n",
    "    shuffle=True,\n",
    "    num_workers=16,\n",
    ")\n",
    "\n",
    "valid_loader = DataLoader(\n",
    "    dataset=HarvardSkinCancerDatasset(df=df_valid, transforms=transforms),\n",
    "    batch_size=64,\n",
    "    num_workers=16,\n",
    ")\n",
    "\n",
    "test_loader = DataLoader(\n",
    "    dataset=HarvardSkinCancerDatasset(df=df_test, transforms=transforms),\n",
    "    batch_size=64,\n",
    "    num_workers=16,\n",
    ")"
   ]
  },
  {
   "cell_type": "markdown",
   "id": "b217ced5-cee3-4523-b723-f7eb8f5ff41e",
   "metadata": {},
   "source": [
    "## Training"
   ]
  },
  {
   "cell_type": "code",
   "execution_count": null,
   "id": "d6b1888c-0ec4-4746-8741-5434b61ead79",
   "metadata": {
    "execution": {
     "iopub.execute_input": "2024-06-13T22:34:44.838098Z",
     "iopub.status.busy": "2024-06-13T22:34:44.837973Z"
    }
   },
   "outputs": [
    {
     "name": "stdout",
     "output_type": "stream",
     "text": [
      "[epoch 0], [iter 100 / 613], [train loss 1.02526], [train acc 0.63297]\n",
      "[epoch 0], [iter 200 / 613], [train loss 0.85438], [train acc 0.69094]\n",
      "[epoch 0], [iter 300 / 613], [train loss 0.76106], [train acc 0.71995]\n",
      "[epoch 0], [iter 400 / 613], [train loss 0.70060], [train acc 0.74273]\n",
      "[epoch 0], [iter 500 / 613], [train loss 0.65201], [train acc 0.75994]\n",
      "[epoch 0], [iter 600 / 613], [train loss 0.61823], [train acc 0.77193]\n",
      "EPOCH VALIDATION: [epoch = 0] acc = 0.8543002136752137 loss = 0.35803675485981834\n",
      "[epoch 1], [iter 100 / 613], [train loss 0.39738], [train acc 0.84859]\n",
      "[epoch 1], [iter 200 / 613], [train loss 0.38840], [train acc 0.85398]\n",
      "[epoch 1], [iter 300 / 613], [train loss 0.37956], [train acc 0.85776]\n",
      "[epoch 1], [iter 400 / 613], [train loss 0.37277], [train acc 0.85961]\n",
      "[epoch 1], [iter 500 / 613], [train loss 0.36531], [train acc 0.86303]\n",
      "[epoch 1], [iter 600 / 613], [train loss 0.35401], [train acc 0.86701]\n",
      "EPOCH VALIDATION: [epoch = 1] acc = 0.9040242165242165 loss = 0.30670445991886985\n",
      "[epoch 2], [iter 100 / 613], [train loss 0.28200], [train acc 0.89563]\n",
      "[epoch 2], [iter 200 / 613], [train loss 0.27699], [train acc 0.89602]\n",
      "[epoch 2], [iter 300 / 613], [train loss 0.26997], [train acc 0.89885]\n",
      "[epoch 2], [iter 400 / 613], [train loss 0.26331], [train acc 0.90070]\n",
      "[epoch 2], [iter 500 / 613], [train loss 0.26054], [train acc 0.90209]\n",
      "[epoch 2], [iter 600 / 613], [train loss 0.26196], [train acc 0.90141]\n",
      "EPOCH VALIDATION: [epoch = 2] acc = 0.8538105413105413 loss = 0.38532499306731754\n",
      "[epoch 3], [iter 100 / 613], [train loss 0.21810], [train acc 0.91609]\n",
      "[epoch 3], [iter 200 / 613], [train loss 0.22311], [train acc 0.91609]\n",
      "[epoch 3], [iter 300 / 613], [train loss 0.21996], [train acc 0.91818]\n",
      "[epoch 3], [iter 400 / 613], [train loss 0.21997], [train acc 0.91797]\n",
      "[epoch 3], [iter 500 / 613], [train loss 0.22153], [train acc 0.91697]\n",
      "[epoch 3], [iter 600 / 613], [train loss 0.21834], [train acc 0.91799]\n",
      "EPOCH VALIDATION: [epoch = 3] acc = 0.8317307692307693 loss = 0.4741974439885881\n",
      "[epoch 4], [iter 100 / 613], [train loss 0.18502], [train acc 0.93000]\n",
      "[epoch 4], [iter 200 / 613], [train loss 0.18137], [train acc 0.93164]\n",
      "[epoch 4], [iter 300 / 613], [train loss 0.18714], [train acc 0.92901]\n",
      "[epoch 4], [iter 400 / 613], [train loss 0.18719], [train acc 0.92922]\n",
      "[epoch 4], [iter 500 / 613], [train loss 0.18665], [train acc 0.92863]\n",
      "[epoch 4], [iter 600 / 613], [train loss 0.18268], [train acc 0.93057]\n",
      "EPOCH VALIDATION: [epoch = 4] acc = 0.8648504273504273 loss = 0.46477187673250836\n",
      "[epoch 5], [iter 100 / 613], [train loss 0.20312], [train acc 0.92391]\n",
      "[epoch 5], [iter 200 / 613], [train loss 0.17821], [train acc 0.93391]\n",
      "[epoch 5], [iter 300 / 613], [train loss 0.17315], [train acc 0.93500]\n",
      "[epoch 5], [iter 400 / 613], [train loss 0.17068], [train acc 0.93613]\n",
      "[epoch 5], [iter 500 / 613], [train loss 0.16793], [train acc 0.93716]\n",
      "[epoch 5], [iter 600 / 613], [train loss 0.16456], [train acc 0.93846]\n",
      "EPOCH VALIDATION: [epoch = 5] acc = 0.8913817663817665 loss = 0.4222925967640347\n",
      "[epoch 6], [iter 100 / 613], [train loss 0.14917], [train acc 0.94328]\n",
      "[epoch 6], [iter 200 / 613], [train loss 0.14606], [train acc 0.94586]\n",
      "[epoch 6], [iter 300 / 613], [train loss 0.14207], [train acc 0.94792]\n",
      "[epoch 6], [iter 400 / 613], [train loss 0.13871], [train acc 0.94883]\n",
      "[epoch 6], [iter 500 / 613], [train loss 0.13637], [train acc 0.94947]\n",
      "[epoch 6], [iter 600 / 613], [train loss 0.13683], [train acc 0.94961]\n",
      "EPOCH VALIDATION: [epoch = 6] acc = 0.8745103276353277 loss = 0.41574087573422325\n",
      "[epoch 7], [iter 100 / 613], [train loss 0.13387], [train acc 0.95172]\n",
      "[epoch 7], [iter 200 / 613], [train loss 0.13648], [train acc 0.94992]\n",
      "[epoch 7], [iter 300 / 613], [train loss 0.13007], [train acc 0.95318]\n",
      "[epoch 7], [iter 400 / 613], [train loss 0.12517], [train acc 0.95512]\n",
      "[epoch 7], [iter 500 / 613], [train loss 0.12261], [train acc 0.95609]\n",
      "[epoch 7], [iter 600 / 613], [train loss 0.12128], [train acc 0.95661]\n",
      "EPOCH VALIDATION: [epoch = 7] acc = 0.8827012108262109 loss = 0.4489719768365224\n",
      "[epoch 8], [iter 100 / 613], [train loss 0.10853], [train acc 0.95750]\n",
      "[epoch 8], [iter 200 / 613], [train loss 0.11479], [train acc 0.95586]\n",
      "[epoch 8], [iter 300 / 613], [train loss 0.11864], [train acc 0.95557]\n",
      "[epoch 8], [iter 400 / 613], [train loss 0.11479], [train acc 0.95813]\n",
      "[epoch 8], [iter 500 / 613], [train loss 0.11142], [train acc 0.95913]\n",
      "[epoch 8], [iter 600 / 613], [train loss 0.10870], [train acc 0.96010]\n",
      "EPOCH VALIDATION: [epoch = 8] acc = 0.8711716524216525 loss = 0.4851490921444363\n",
      "[epoch 9], [iter 100 / 613], [train loss 0.10906], [train acc 0.95828]\n",
      "[epoch 9], [iter 200 / 613], [train loss 0.10392], [train acc 0.96047]\n",
      "[epoch 9], [iter 300 / 613], [train loss 0.10200], [train acc 0.96135]\n",
      "[epoch 9], [iter 400 / 613], [train loss 0.10487], [train acc 0.96078]\n",
      "[epoch 9], [iter 500 / 613], [train loss 0.10537], [train acc 0.96056]\n",
      "[epoch 9], [iter 600 / 613], [train loss 0.10256], [train acc 0.96182]\n"
     ]
    }
   ],
   "source": [
    "model.train(\n",
    "    train_loader=train_loader,\n",
    "    valid_loader=valid_loader,\n",
    "    criterion=criterion,\n",
    "    optimizer=optimizer,\n",
    "    n_epochs=10,\n",
    ")"
   ]
  }
 ],
 "metadata": {
  "kernelspec": {
   "display_name": "Python 3 (ipykernel)",
   "language": "python",
   "name": "python3"
  },
  "language_info": {
   "codemirror_mode": {
    "name": "ipython",
    "version": 3
   },
   "file_extension": ".py",
   "mimetype": "text/x-python",
   "name": "python",
   "nbconvert_exporter": "python",
   "pygments_lexer": "ipython3",
   "version": "3.12.3"
  }
 },
 "nbformat": 4,
 "nbformat_minor": 5
}
