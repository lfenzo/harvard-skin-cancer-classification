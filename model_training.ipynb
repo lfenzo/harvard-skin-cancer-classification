{
 "cells": [
  {
   "cell_type": "code",
   "execution_count": 1,
   "id": "9dbbb620-ec40-4c7a-9d92-4301ff00e937",
   "metadata": {
    "execution": {
     "iopub.execute_input": "2024-06-15T14:12:12.025819Z",
     "iopub.status.busy": "2024-06-15T14:12:12.025640Z",
     "iopub.status.idle": "2024-06-15T14:12:12.032008Z",
     "shell.execute_reply": "2024-06-15T14:12:12.031689Z",
     "shell.execute_reply.started": "2024-06-15T14:12:12.025802Z"
    }
   },
   "outputs": [],
   "source": [
    "%load_ext autoreload\n",
    "%autoreload 2"
   ]
  },
  {
   "cell_type": "code",
   "execution_count": 2,
   "id": "9ff0087a-fe17-4621-879a-452bf21661ab",
   "metadata": {
    "execution": {
     "iopub.execute_input": "2024-06-15T14:12:12.032476Z",
     "iopub.status.busy": "2024-06-15T14:12:12.032361Z",
     "iopub.status.idle": "2024-06-15T14:12:13.035335Z",
     "shell.execute_reply": "2024-06-15T14:12:13.034937Z",
     "shell.execute_reply.started": "2024-06-15T14:12:12.032469Z"
    }
   },
   "outputs": [],
   "source": [
    "import os\n",
    "from datetime import datetime\n",
    "\n",
    "import pandas as pd\n",
    "import torch\n",
    "from PIL import Image\n",
    "from torch.utils.data import DataLoader\n",
    "from torchvision.transforms import v2\n",
    "from torch import nn, optim\n",
    "\n",
    "from src.dataset import utils\n",
    "from src.dataset.harvard_skin_cancer import HarvardSkinCancerDatasset\n",
    "from src.modeling.models import DenseNet, Inception, ResNet"
   ]
  },
  {
   "cell_type": "code",
   "execution_count": 3,
   "id": "f54fe198-b695-4965-822d-fce306b9baa0",
   "metadata": {
    "execution": {
     "iopub.execute_input": "2024-06-15T14:12:13.036212Z",
     "iopub.status.busy": "2024-06-15T14:12:13.036072Z",
     "iopub.status.idle": "2024-06-15T14:12:13.076480Z",
     "shell.execute_reply": "2024-06-15T14:12:13.076264Z",
     "shell.execute_reply.started": "2024-06-15T14:12:13.036203Z"
    }
   },
   "outputs": [],
   "source": [
    "df_train = pd.read_csv('artifacts/df_train.csv')\n",
    "df_valid = pd.read_csv('artifacts/df_valid.csv')\n",
    "df_test = pd.read_csv('artifacts/df_test.csv')"
   ]
  },
  {
   "cell_type": "markdown",
   "id": "b7bbe16e-53e6-4140-be17-4fd7ee040089",
   "metadata": {},
   "source": [
    "## Model Creation"
   ]
  },
  {
   "cell_type": "code",
   "execution_count": 4,
   "id": "031e08b9-77a9-45a6-b6eb-754e375f7efb",
   "metadata": {
    "execution": {
     "iopub.execute_input": "2024-06-15T14:12:13.076873Z",
     "iopub.status.busy": "2024-06-15T14:12:13.076786Z",
     "iopub.status.idle": "2024-06-15T14:12:13.288893Z",
     "shell.execute_reply": "2024-06-15T14:12:13.288655Z",
     "shell.execute_reply.started": "2024-06-15T14:12:13.076863Z"
    }
   },
   "outputs": [],
   "source": [
    "model = ResNet(n_classes = df_train['lesion_type_id'].nunique(), extract_features=True)\n",
    "\n",
    "optimizer = optim.Adam(model.parameters())\n",
    "criterion = nn.CrossEntropyLoss()"
   ]
  },
  {
   "cell_type": "markdown",
   "id": "066a1962-4adb-4815-ba8d-46a66cb03a0a",
   "metadata": {},
   "source": [
    "## Preparing DataLoaders"
   ]
  },
  {
   "cell_type": "code",
   "execution_count": 5,
   "id": "bd9fe966-a24f-4119-a272-734f8bc1219b",
   "metadata": {
    "execution": {
     "iopub.execute_input": "2024-06-15T14:12:13.289278Z",
     "iopub.status.busy": "2024-06-15T14:12:13.289201Z",
     "iopub.status.idle": "2024-06-15T14:12:39.510594Z",
     "shell.execute_reply": "2024-06-15T14:12:39.510402Z",
     "shell.execute_reply.started": "2024-06-15T14:12:13.289271Z"
    }
   },
   "outputs": [
    {
     "name": "stderr",
     "output_type": "stream",
     "text": [
      "100%|███████████████████████████████████████████████████████████████████████████████████████████████████████████████████████████████████████████| 8912/8912 [00:20<00:00, 437.28it/s]\n"
     ]
    },
    {
     "data": {
      "text/plain": [
       "[0.7579861, 0.54822993, 0.57350165]"
      ]
     },
     "metadata": {},
     "output_type": "display_data"
    },
    {
     "data": {
      "text/plain": [
       "[0.14163895, 0.15279482, 0.17041847]"
      ]
     },
     "metadata": {},
     "output_type": "display_data"
    }
   ],
   "source": [
    "means, stds = utils.extract_mean_and_std_from_images(img_paths=df_train['path'].drop_duplicates())\n",
    "display(means)\n",
    "display(stds)"
   ]
  },
  {
   "cell_type": "code",
   "execution_count": 6,
   "id": "984193f8-bb0b-44c1-8a9d-764b97434af5",
   "metadata": {
    "execution": {
     "iopub.execute_input": "2024-06-15T14:12:39.510968Z",
     "iopub.status.busy": "2024-06-15T14:12:39.510883Z",
     "iopub.status.idle": "2024-06-15T14:12:39.521206Z",
     "shell.execute_reply": "2024-06-15T14:12:39.521028Z",
     "shell.execute_reply.started": "2024-06-15T14:12:39.510961Z"
    }
   },
   "outputs": [
    {
     "data": {
      "text/plain": [
       "Compose(\n",
       "      Resize(size=[224, 224], interpolation=InterpolationMode.BILINEAR, antialias=True)\n",
       "      RandomHorizontalFlip(p=0.5)\n",
       "      RandomVerticalFlip(p=0.5)\n",
       "      RandomRotation(degrees=[-20.0, 20.0], interpolation=InterpolationMode.NEAREST, expand=False, fill=0)\n",
       "      ColorJitter(brightness=(0.9, 1.1), contrast=(0.9, 1.1), hue=(-0.1, 0.1))\n",
       "      ToImage()\n",
       "      ToDtype(scale=True)\n",
       "      Normalize(mean=[0.7579861, 0.54822993, 0.57350165], std=[0.14163895, 0.15279482, 0.17041847], inplace=False)\n",
       ")"
      ]
     },
     "execution_count": 6,
     "metadata": {},
     "output_type": "execute_result"
    }
   ],
   "source": [
    "transforms = v2.Compose([\n",
    "    v2.Resize((model.input_size, model.input_size)),\n",
    "    v2.RandomHorizontalFlip(),\n",
    "    v2.RandomVerticalFlip(),\n",
    "    v2.RandomRotation(20),\n",
    "    v2.ColorJitter(brightness=0.1, contrast=0.1, hue=0.1),\n",
    "    v2.ToImage(),\n",
    "    v2.ToDtype(torch.float32, scale=True),\n",
    "    v2.Normalize(mean=means, std=stds),\n",
    "])\n",
    "\n",
    "transforms"
   ]
  },
  {
   "cell_type": "code",
   "execution_count": 7,
   "id": "635a3bad-c440-4078-a438-6cde5f4a8c67",
   "metadata": {
    "execution": {
     "iopub.execute_input": "2024-06-15T14:12:39.521557Z",
     "iopub.status.busy": "2024-06-15T14:12:39.521481Z",
     "iopub.status.idle": "2024-06-15T14:12:39.536154Z",
     "shell.execute_reply": "2024-06-15T14:12:39.535959Z",
     "shell.execute_reply.started": "2024-06-15T14:12:39.521549Z"
    }
   },
   "outputs": [],
   "source": [
    "train_loader = DataLoader(\n",
    "    dataset=HarvardSkinCancerDatasset(df=df_train, transforms=transforms),\n",
    "    batch_size=64,\n",
    "    shuffle=True,\n",
    "    num_workers=16,\n",
    ")\n",
    "\n",
    "valid_loader = DataLoader(\n",
    "    dataset=HarvardSkinCancerDatasset(df=df_valid, transforms=transforms),\n",
    "    batch_size=64,\n",
    "    num_workers=16,\n",
    ")\n",
    "\n",
    "test_loader = DataLoader(\n",
    "    dataset=HarvardSkinCancerDatasset(df=df_test, transforms=transforms),\n",
    "    batch_size=64,\n",
    "    num_workers=16,\n",
    ")"
   ]
  },
  {
   "cell_type": "markdown",
   "id": "b217ced5-cee3-4523-b723-f7eb8f5ff41e",
   "metadata": {},
   "source": [
    "## Training"
   ]
  },
  {
   "cell_type": "code",
   "execution_count": 8,
   "id": "35377f6e-ec69-4aa9-a083-7f7b0515ff39",
   "metadata": {
    "execution": {
     "iopub.execute_input": "2024-06-15T14:12:39.536501Z",
     "iopub.status.busy": "2024-06-15T14:12:39.536425Z",
     "iopub.status.idle": "2024-06-15T14:12:39.545093Z",
     "shell.execute_reply": "2024-06-15T14:12:39.544904Z",
     "shell.execute_reply.started": "2024-06-15T14:12:39.536494Z"
    }
   },
   "outputs": [],
   "source": [
    "torch.cuda.empty_cache()"
   ]
  },
  {
   "cell_type": "code",
   "execution_count": 9,
   "id": "d6b1888c-0ec4-4746-8741-5434b61ead79",
   "metadata": {
    "execution": {
     "iopub.execute_input": "2024-06-15T14:12:39.545435Z",
     "iopub.status.busy": "2024-06-15T14:12:39.545363Z",
     "iopub.status.idle": "2024-06-15T14:26:07.616190Z",
     "shell.execute_reply": "2024-06-15T14:26:07.615880Z",
     "shell.execute_reply.started": "2024-06-15T14:12:39.545428Z"
    }
   },
   "outputs": [
    {
     "name": "stdout",
     "output_type": "stream",
     "text": [
      "[epoch 0], [iter 100 / 613], [train loss 1.01566], [train acc 0.63984]\n",
      "[epoch 0], [iter 200 / 613], [train loss 0.85367], [train acc 0.69125]\n",
      "[epoch 0], [iter 300 / 613], [train loss 0.77069], [train acc 0.71818]\n",
      "[epoch 0], [iter 400 / 613], [train loss 0.71222], [train acc 0.73871]\n",
      "[epoch 0], [iter 500 / 613], [train loss 0.66323], [train acc 0.75628]\n",
      "[epoch 0], [iter 600 / 613], [train loss 0.63032], [train acc 0.76747]\n",
      "MODEL_EVALUATION: acc = 0.8560363247863249 loss = 0.3773735927210914\n",
      "[epoch 1], [iter 100 / 613], [train loss 0.41401], [train acc 0.84688]\n",
      "[epoch 1], [iter 200 / 613], [train loss 0.40121], [train acc 0.84992]\n",
      "[epoch 1], [iter 300 / 613], [train loss 0.38926], [train acc 0.85448]\n",
      "[epoch 1], [iter 400 / 613], [train loss 0.38224], [train acc 0.85590]\n",
      "[epoch 1], [iter 500 / 613], [train loss 0.37378], [train acc 0.85903]\n",
      "[epoch 1], [iter 600 / 613], [train loss 0.36404], [train acc 0.86273]\n",
      "MODEL_EVALUATION: acc = 0.8803418803418803 loss = 0.330578593744172\n",
      "[epoch 2], [iter 100 / 613], [train loss 0.28218], [train acc 0.89719]\n",
      "[epoch 2], [iter 200 / 613], [train loss 0.28024], [train acc 0.89500]\n",
      "[epoch 2], [iter 300 / 613], [train loss 0.27749], [train acc 0.89573]\n",
      "[epoch 2], [iter 400 / 613], [train loss 0.27588], [train acc 0.89652]\n",
      "[epoch 2], [iter 500 / 613], [train loss 0.27113], [train acc 0.89872]\n",
      "[epoch 2], [iter 600 / 613], [train loss 0.26874], [train acc 0.89909]\n",
      "MODEL_EVALUATION: acc = 0.8572827635327636 loss = 0.4703647295633952\n",
      "[epoch 3], [iter 100 / 613], [train loss 0.22728], [train acc 0.91750]\n",
      "[epoch 3], [iter 200 / 613], [train loss 0.22005], [train acc 0.92016]\n",
      "[epoch 3], [iter 300 / 613], [train loss 0.22684], [train acc 0.91651]\n",
      "[epoch 3], [iter 400 / 613], [train loss 0.22049], [train acc 0.91766]\n",
      "[epoch 3], [iter 500 / 613], [train loss 0.21838], [train acc 0.91863]\n",
      "[epoch 3], [iter 600 / 613], [train loss 0.21572], [train acc 0.91943]\n",
      "MODEL_EVALUATION: acc = 0.8815883190883191 loss = 0.39230236742231583\n",
      "[epoch 4], [iter 100 / 613], [train loss 0.19448], [train acc 0.92688]\n",
      "[epoch 4], [iter 200 / 613], [train loss 0.19202], [train acc 0.92820]\n",
      "[epoch 4], [iter 300 / 613], [train loss 0.18555], [train acc 0.93031]\n",
      "[epoch 4], [iter 400 / 613], [train loss 0.18713], [train acc 0.92988]\n",
      "[epoch 4], [iter 500 / 613], [train loss 0.18544], [train acc 0.93050]\n",
      "[epoch 4], [iter 600 / 613], [train loss 0.18424], [train acc 0.93169]\n",
      "MODEL_EVALUATION: acc = 0.8683226495726495 loss = 0.42984355986118317\n",
      "[epoch 5], [iter 100 / 613], [train loss 0.15185], [train acc 0.94328]\n",
      "[epoch 5], [iter 200 / 613], [train loss 0.15210], [train acc 0.94352]\n",
      "[epoch 5], [iter 300 / 613], [train loss 0.15386], [train acc 0.94354]\n",
      "[epoch 5], [iter 400 / 613], [train loss 0.15534], [train acc 0.94289]\n",
      "[epoch 5], [iter 500 / 613], [train loss 0.15448], [train acc 0.94294]\n",
      "[epoch 5], [iter 600 / 613], [train loss 0.15491], [train acc 0.94289]\n",
      "MODEL_EVALUATION: acc = 0.8774928774928775 loss = 0.4270165099038018\n",
      "[epoch 6], [iter 100 / 613], [train loss 0.13598], [train acc 0.95031]\n",
      "[epoch 6], [iter 200 / 613], [train loss 0.13372], [train acc 0.95117]\n",
      "[epoch 6], [iter 300 / 613], [train loss 0.13294], [train acc 0.95234]\n",
      "[epoch 6], [iter 400 / 613], [train loss 0.13884], [train acc 0.95008]\n",
      "[epoch 6], [iter 500 / 613], [train loss 0.14293], [train acc 0.94878]\n",
      "[epoch 6], [iter 600 / 613], [train loss 0.14155], [train acc 0.94859]\n",
      "MODEL_EVALUATION: acc = 0.8913817663817665 loss = 0.3601088623205821\n",
      "[epoch 7], [iter 100 / 613], [train loss 0.12352], [train acc 0.95594]\n",
      "[epoch 7], [iter 200 / 613], [train loss 0.12658], [train acc 0.95492]\n",
      "[epoch 7], [iter 300 / 613], [train loss 0.12230], [train acc 0.95583]\n",
      "[epoch 7], [iter 400 / 613], [train loss 0.12468], [train acc 0.95523]\n",
      "[epoch 7], [iter 500 / 613], [train loss 0.12383], [train acc 0.95513]\n",
      "[epoch 7], [iter 600 / 613], [train loss 0.12308], [train acc 0.95510]\n",
      "MODEL_EVALUATION: acc = 0.8670762108262109 loss = 0.4922056794166565\n",
      "[epoch 8], [iter 100 / 613], [train loss 0.11923], [train acc 0.95797]\n",
      "[epoch 8], [iter 200 / 613], [train loss 0.10553], [train acc 0.96219]\n",
      "[epoch 8], [iter 300 / 613], [train loss 0.10226], [train acc 0.96255]\n",
      "[epoch 8], [iter 400 / 613], [train loss 0.10912], [train acc 0.96020]\n",
      "[epoch 8], [iter 500 / 613], [train loss 0.11014], [train acc 0.96041]\n",
      "[epoch 8], [iter 600 / 613], [train loss 0.10888], [train acc 0.96078]\n",
      "MODEL_EVALUATION: acc = 0.9040242165242165 loss = 0.40830524017413455\n",
      "[epoch 9], [iter 100 / 613], [train loss 0.10688], [train acc 0.95906]\n",
      "[epoch 9], [iter 200 / 613], [train loss 0.10006], [train acc 0.96375]\n",
      "[epoch 9], [iter 300 / 613], [train loss 0.09851], [train acc 0.96432]\n",
      "[epoch 9], [iter 400 / 613], [train loss 0.09888], [train acc 0.96391]\n",
      "[epoch 9], [iter 500 / 613], [train loss 0.09809], [train acc 0.96428]\n",
      "[epoch 9], [iter 600 / 613], [train loss 0.09958], [train acc 0.96365]\n",
      "MODEL_EVALUATION: acc = 0.8937410968660969 loss = 0.3881632288297017\n"
     ]
    }
   ],
   "source": [
    "model.train(\n",
    "    train_loader=train_loader,\n",
    "    valid_loader=valid_loader,\n",
    "    criterion=criterion,\n",
    "    optimizer=optimizer,\n",
    "    n_epochs=10,\n",
    ")"
   ]
  },
  {
   "cell_type": "code",
   "execution_count": 11,
   "id": "55deeafc-e2cb-4597-a891-a32236878e39",
   "metadata": {
    "execution": {
     "iopub.execute_input": "2024-06-15T14:27:04.452845Z",
     "iopub.status.busy": "2024-06-15T14:27:04.452622Z",
     "iopub.status.idle": "2024-06-15T14:27:05.483872Z",
     "shell.execute_reply": "2024-06-15T14:27:05.483662Z",
     "shell.execute_reply.started": "2024-06-15T14:27:04.452834Z"
    }
   },
   "outputs": [
    {
     "name": "stdout",
     "output_type": "stream",
     "text": [
      "MODEL_EVALUATION: acc = 0.9038194444444445 loss = 0.2955888542864058\n"
     ]
    },
    {
     "data": {
      "text/plain": [
       "(0.2955888542864058, 0.9038194444444445)"
      ]
     },
     "execution_count": 11,
     "metadata": {},
     "output_type": "execute_result"
    }
   ],
   "source": [
    "model.evaluate(loader=test_loader, criterion=criterion)"
   ]
  }
 ],
 "metadata": {
  "kernelspec": {
   "display_name": "Python 3 (ipykernel)",
   "language": "python",
   "name": "python3"
  },
  "language_info": {
   "codemirror_mode": {
    "name": "ipython",
    "version": 3
   },
   "file_extension": ".py",
   "mimetype": "text/x-python",
   "name": "python",
   "nbconvert_exporter": "python",
   "pygments_lexer": "ipython3",
   "version": "3.12.3"
  }
 },
 "nbformat": 4,
 "nbformat_minor": 5
}
