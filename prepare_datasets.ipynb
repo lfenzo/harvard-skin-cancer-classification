{
 "cells": [
  {
   "cell_type": "code",
   "execution_count": 1,
   "id": "6ada140a-5c92-4c24-9804-6460371a65e6",
   "metadata": {
    "execution": {
     "iopub.execute_input": "2024-02-23T22:32:54.688565Z",
     "iopub.status.busy": "2024-02-23T22:32:54.688196Z",
     "iopub.status.idle": "2024-02-23T22:32:55.637206Z",
     "shell.execute_reply": "2024-02-23T22:32:55.636237Z",
     "shell.execute_reply.started": "2024-02-23T22:32:54.688543Z"
    }
   },
   "outputs": [],
   "source": [
    "import os\n",
    "from glob import glob\n",
    "\n",
    "import cv2\n",
    "import numpy as np\n",
    "import pandas as pd\n",
    "from tqdm import tqdm\n",
    "from sklearn.model_selection import train_test_split\n",
    "\n",
    "from src.dataset import utils as dutils\n",
    "\n",
    "%load_ext autoreload\n",
    "%autoreload 2"
   ]
  },
  {
   "cell_type": "code",
   "execution_count": 2,
   "id": "62cad9be-675a-4b24-ae7b-c56bfb56a927",
   "metadata": {
    "execution": {
     "iopub.execute_input": "2024-02-23T22:32:55.639646Z",
     "iopub.status.busy": "2024-02-23T22:32:55.638798Z",
     "iopub.status.idle": "2024-02-23T22:32:55.734094Z",
     "shell.execute_reply": "2024-02-23T22:32:55.733317Z",
     "shell.execute_reply.started": "2024-02-23T22:32:55.639606Z"
    }
   },
   "outputs": [
    {
     "data": {
      "text/html": [
       "<div>\n",
       "<style scoped>\n",
       "    .dataframe tbody tr th:only-of-type {\n",
       "        vertical-align: middle;\n",
       "    }\n",
       "\n",
       "    .dataframe tbody tr th {\n",
       "        vertical-align: top;\n",
       "    }\n",
       "\n",
       "    .dataframe thead th {\n",
       "        text-align: right;\n",
       "    }\n",
       "</style>\n",
       "<table border=\"1\" class=\"dataframe\">\n",
       "  <thead>\n",
       "    <tr style=\"text-align: right;\">\n",
       "      <th></th>\n",
       "      <th>lesion_id</th>\n",
       "      <th>image_id</th>\n",
       "      <th>dx</th>\n",
       "      <th>dx_type</th>\n",
       "      <th>age</th>\n",
       "      <th>sex</th>\n",
       "      <th>localization</th>\n",
       "      <th>dataset</th>\n",
       "      <th>path</th>\n",
       "      <th>lesion_type</th>\n",
       "      <th>lesion_type_id</th>\n",
       "    </tr>\n",
       "  </thead>\n",
       "  <tbody>\n",
       "    <tr>\n",
       "      <th>10010</th>\n",
       "      <td>HAM_0002867</td>\n",
       "      <td>ISIC_0033084</td>\n",
       "      <td>akiec</td>\n",
       "      <td>histo</td>\n",
       "      <td>40.0</td>\n",
       "      <td>male</td>\n",
       "      <td>abdomen</td>\n",
       "      <td>vidir_modern</td>\n",
       "      <td>data/HAM10000_images_part_2/ISIC_0033084.jpg</td>\n",
       "      <td>Actinic keratoses</td>\n",
       "      <td>0</td>\n",
       "    </tr>\n",
       "    <tr>\n",
       "      <th>10011</th>\n",
       "      <td>HAM_0002867</td>\n",
       "      <td>ISIC_0033550</td>\n",
       "      <td>akiec</td>\n",
       "      <td>histo</td>\n",
       "      <td>40.0</td>\n",
       "      <td>male</td>\n",
       "      <td>abdomen</td>\n",
       "      <td>vidir_modern</td>\n",
       "      <td>data/HAM10000_images_part_2/ISIC_0033550.jpg</td>\n",
       "      <td>Actinic keratoses</td>\n",
       "      <td>0</td>\n",
       "    </tr>\n",
       "    <tr>\n",
       "      <th>10012</th>\n",
       "      <td>HAM_0002867</td>\n",
       "      <td>ISIC_0033536</td>\n",
       "      <td>akiec</td>\n",
       "      <td>histo</td>\n",
       "      <td>40.0</td>\n",
       "      <td>male</td>\n",
       "      <td>abdomen</td>\n",
       "      <td>vidir_modern</td>\n",
       "      <td>data/HAM10000_images_part_2/ISIC_0033536.jpg</td>\n",
       "      <td>Actinic keratoses</td>\n",
       "      <td>0</td>\n",
       "    </tr>\n",
       "    <tr>\n",
       "      <th>10013</th>\n",
       "      <td>HAM_0000239</td>\n",
       "      <td>ISIC_0032854</td>\n",
       "      <td>akiec</td>\n",
       "      <td>histo</td>\n",
       "      <td>80.0</td>\n",
       "      <td>male</td>\n",
       "      <td>face</td>\n",
       "      <td>vidir_modern</td>\n",
       "      <td>data/HAM10000_images_part_2/ISIC_0032854.jpg</td>\n",
       "      <td>Actinic keratoses</td>\n",
       "      <td>0</td>\n",
       "    </tr>\n",
       "    <tr>\n",
       "      <th>10014</th>\n",
       "      <td>HAM_0003521</td>\n",
       "      <td>ISIC_0032258</td>\n",
       "      <td>mel</td>\n",
       "      <td>histo</td>\n",
       "      <td>70.0</td>\n",
       "      <td>female</td>\n",
       "      <td>back</td>\n",
       "      <td>vidir_modern</td>\n",
       "      <td>data/HAM10000_images_part_2/ISIC_0032258.jpg</td>\n",
       "      <td>dermatofibroma</td>\n",
       "      <td>4</td>\n",
       "    </tr>\n",
       "  </tbody>\n",
       "</table>\n",
       "</div>"
      ],
      "text/plain": [
       "         lesion_id      image_id     dx dx_type   age     sex localization  \\\n",
       "10010  HAM_0002867  ISIC_0033084  akiec   histo  40.0    male      abdomen   \n",
       "10011  HAM_0002867  ISIC_0033550  akiec   histo  40.0    male      abdomen   \n",
       "10012  HAM_0002867  ISIC_0033536  akiec   histo  40.0    male      abdomen   \n",
       "10013  HAM_0000239  ISIC_0032854  akiec   histo  80.0    male         face   \n",
       "10014  HAM_0003521  ISIC_0032258    mel   histo  70.0  female         back   \n",
       "\n",
       "            dataset                                          path  \\\n",
       "10010  vidir_modern  data/HAM10000_images_part_2/ISIC_0033084.jpg   \n",
       "10011  vidir_modern  data/HAM10000_images_part_2/ISIC_0033550.jpg   \n",
       "10012  vidir_modern  data/HAM10000_images_part_2/ISIC_0033536.jpg   \n",
       "10013  vidir_modern  data/HAM10000_images_part_2/ISIC_0032854.jpg   \n",
       "10014  vidir_modern  data/HAM10000_images_part_2/ISIC_0032258.jpg   \n",
       "\n",
       "             lesion_type  lesion_type_id  \n",
       "10010  Actinic keratoses               0  \n",
       "10011  Actinic keratoses               0  \n",
       "10012  Actinic keratoses               0  \n",
       "10013  Actinic keratoses               0  \n",
       "10014     dermatofibroma               4  "
      ]
     },
     "execution_count": 2,
     "metadata": {},
     "output_type": "execute_result"
    }
   ],
   "source": [
    "DATA_DIR = 'data'\n",
    "\n",
    "lesion_type = {\n",
    "    'akiec': 'Actinic keratoses',\n",
    "    'bcc': 'Basal cell carcinoma',\n",
    "    'bkl': 'Benign keratosis-like lesions ',\n",
    "    'df': 'Dermatofibroma',\n",
    "    'mel': 'dermatofibroma',\n",
    "    'nv': 'Melanocytic nevi',\n",
    "    'vasc': 'Vascular lesions',\n",
    "}\n",
    "\n",
    "image_paths = glob(os.path.join(DATA_DIR, '*', '*.jpg'))\n",
    "image_paths_dict_map = {os.path.splitext(os.path.basename(p))[0]: p for p in image_paths}\n",
    "\n",
    "df = pd.read_csv(os.path.join(DATA_DIR, 'HAM10000_metadata'))\n",
    "\n",
    "df['path'] = df['image_id'].map(image_paths_dict_map.get)\n",
    "df['lesion_type'] = df['dx'].map(lesion_type.get)\n",
    "df['lesion_type_id'] = pd.Categorical(df['dx']).codes\n",
    "\n",
    "df.tail()"
   ]
  },
  {
   "cell_type": "code",
   "execution_count": 3,
   "id": "84d364f3-d660-4a97-ac53-3dc7cbba392f",
   "metadata": {
    "execution": {
     "iopub.execute_input": "2024-02-23T22:32:55.735537Z",
     "iopub.status.busy": "2024-02-23T22:32:55.735308Z",
     "iopub.status.idle": "2024-02-23T22:32:55.916032Z",
     "shell.execute_reply": "2024-02-23T22:32:55.915467Z",
     "shell.execute_reply.started": "2024-02-23T22:32:55.735518Z"
    }
   },
   "outputs": [],
   "source": [
    "# this dataset contains duplicated images (the same lesion may have more than one image associated to it)\n",
    "# since duplicated samples have no use in the validation set, we are getting rid of them for the\n",
    "# validation and test sets.\n",
    "\n",
    "images_per_lesion_id = df.groupby(['lesion_id'], as_index=False)['image_id'].count()\n",
    "duplicated_images = images_per_lesion_id.query('image_id > 1')['lesion_id'].values\n",
    "df['duplicated'] = df['lesion_id'].isin(duplicated_images)\n",
    "\n",
    "unduplicated = df.query('duplicated == False')\n",
    "_, df_evaluation = train_test_split(unduplicated, test_size=0.2, stratify=unduplicated['lesion_type_id'])\n",
    "\n",
    "df_train = df.query(\"image_id not in @df_evaluation['image_id']\").copy()\n",
    "\n",
    "# this evaluatino \"placeholder\" is now split into the validation and test sets\n",
    "df_valid, df_test = train_test_split(df_evaluation, test_size=0.5, stratify=df_evaluation['lesion_type_id'])"
   ]
  },
  {
   "cell_type": "code",
   "execution_count": 4,
   "id": "684c80b2-6619-4fc3-99ee-96d3500c690a",
   "metadata": {
    "execution": {
     "iopub.execute_input": "2024-02-23T22:32:55.916841Z",
     "iopub.status.busy": "2024-02-23T22:32:55.916681Z",
     "iopub.status.idle": "2024-02-23T22:32:55.973033Z",
     "shell.execute_reply": "2024-02-23T22:32:55.972267Z",
     "shell.execute_reply.started": "2024-02-23T22:32:55.916825Z"
    }
   },
   "outputs": [
    {
     "name": "stdout",
     "output_type": "stream",
     "text": [
      "(8912, 12)\n",
      "(39186, 12)\n"
     ]
    }
   ],
   "source": [
    "# fixing umbalanced classes in training by augmenting (in this case copying)\n",
    "# each class by the proportion indicated in `correction_proportions`\n",
    "class_counts = df_train['lesion_type_id'].value_counts()\n",
    "class_rebalance_proportions = (\n",
    "    (1 / (class_counts / class_counts.max()) - 1)\n",
    "    .astype(int)\n",
    "    .to_dict() # initially this is returned as a series\n",
    ")\n",
    "\n",
    "print(df_train.shape)\n",
    "\n",
    "for lesion_type_id, proportion in class_rebalance_proportions.items():\n",
    "    if proportion > 0:\n",
    "        repeated_rows = pd.concat([df_train.query('lesion_type_id == @lesion_type_id')] * proportion)\n",
    "        df_train = pd.concat([df_train, repeated_rows], ignore_index=True)\n",
    "\n",
    "print(df_train.shape)"
   ]
  },
  {
   "cell_type": "code",
   "execution_count": 5,
   "id": "f1a8d067-3f60-4787-a7ff-e3213d4c4800",
   "metadata": {
    "execution": {
     "iopub.execute_input": "2024-02-23T22:32:55.974094Z",
     "iopub.status.busy": "2024-02-23T22:32:55.973853Z",
     "iopub.status.idle": "2024-02-23T22:32:56.178331Z",
     "shell.execute_reply": "2024-02-23T22:32:56.177771Z",
     "shell.execute_reply.started": "2024-02-23T22:32:55.974074Z"
    }
   },
   "outputs": [],
   "source": [
    "df_train.to_csv(os.path.join('artifacts', 'df_train.csv'), index=False)\n",
    "df_valid.to_csv(os.path.join('artifacts', 'df_valid.csv'), index=False)\n",
    "df_test.to_csv(os.path.join('artifacts', 'df_test.csv'), index=False)"
   ]
  }
 ],
 "metadata": {
  "kernelspec": {
   "display_name": "Python 3 (ipykernel)",
   "language": "python",
   "name": "python3"
  },
  "language_info": {
   "codemirror_mode": {
    "name": "ipython",
    "version": 3
   },
   "file_extension": ".py",
   "mimetype": "text/x-python",
   "name": "python",
   "nbconvert_exporter": "python",
   "pygments_lexer": "ipython3",
   "version": "3.11.2"
  }
 },
 "nbformat": 4,
 "nbformat_minor": 5
}
