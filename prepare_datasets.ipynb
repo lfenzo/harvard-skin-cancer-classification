{
 "cells": [
  {
   "cell_type": "code",
   "execution_count": 1,
   "id": "6ada140a-5c92-4c24-9804-6460371a65e6",
   "metadata": {
    "execution": {
     "iopub.execute_input": "2024-06-05T00:22:23.639028Z",
     "iopub.status.busy": "2024-06-05T00:22:23.638951Z",
     "iopub.status.idle": "2024-06-05T00:22:23.998725Z",
     "shell.execute_reply": "2024-06-05T00:22:23.998381Z",
     "shell.execute_reply.started": "2024-06-05T00:22:23.639019Z"
    }
   },
   "outputs": [],
   "source": [
    "import os\n",
    "from glob import glob\n",
    "\n",
    "import cv2\n",
    "import numpy as np\n",
    "import pandas as pd\n",
    "from tqdm import tqdm\n",
    "from sklearn.model_selection import train_test_split\n",
    "\n",
    "from src.dataset import utils as dutils\n",
    "\n",
    "%load_ext autoreload\n",
    "%autoreload 2"
   ]
  },
  {
   "cell_type": "markdown",
   "id": "476b7527-113f-4d0d-9f5b-7409eaff5624",
   "metadata": {},
   "source": [
    "## Unpacking the Dataset"
   ]
  },
  {
   "cell_type": "code",
   "execution_count": 2,
   "id": "62cad9be-675a-4b24-ae7b-c56bfb56a927",
   "metadata": {
    "execution": {
     "iopub.execute_input": "2024-06-05T00:22:23.999135Z",
     "iopub.status.busy": "2024-06-05T00:22:23.999032Z",
     "iopub.status.idle": "2024-06-05T00:22:24.031320Z",
     "shell.execute_reply": "2024-06-05T00:22:24.031056Z",
     "shell.execute_reply.started": "2024-06-05T00:22:23.999128Z"
    }
   },
   "outputs": [
    {
     "data": {
      "text/html": [
       "<div>\n",
       "<style scoped>\n",
       "    .dataframe tbody tr th:only-of-type {\n",
       "        vertical-align: middle;\n",
       "    }\n",
       "\n",
       "    .dataframe tbody tr th {\n",
       "        vertical-align: top;\n",
       "    }\n",
       "\n",
       "    .dataframe thead th {\n",
       "        text-align: right;\n",
       "    }\n",
       "</style>\n",
       "<table border=\"1\" class=\"dataframe\">\n",
       "  <thead>\n",
       "    <tr style=\"text-align: right;\">\n",
       "      <th></th>\n",
       "      <th>lesion_id</th>\n",
       "      <th>image_id</th>\n",
       "      <th>dx</th>\n",
       "      <th>dx_type</th>\n",
       "      <th>age</th>\n",
       "      <th>sex</th>\n",
       "      <th>localization</th>\n",
       "      <th>dataset</th>\n",
       "      <th>path</th>\n",
       "      <th>lesion_type</th>\n",
       "      <th>lesion_type_id</th>\n",
       "    </tr>\n",
       "  </thead>\n",
       "  <tbody>\n",
       "    <tr>\n",
       "      <th>10010</th>\n",
       "      <td>HAM_0002867</td>\n",
       "      <td>ISIC_0033084</td>\n",
       "      <td>akiec</td>\n",
       "      <td>histo</td>\n",
       "      <td>40.0</td>\n",
       "      <td>male</td>\n",
       "      <td>abdomen</td>\n",
       "      <td>vidir_modern</td>\n",
       "      <td>data/HAM10000_images_part_2/ISIC_0033084.jpg</td>\n",
       "      <td>Actinic keratoses</td>\n",
       "      <td>0</td>\n",
       "    </tr>\n",
       "    <tr>\n",
       "      <th>10011</th>\n",
       "      <td>HAM_0002867</td>\n",
       "      <td>ISIC_0033550</td>\n",
       "      <td>akiec</td>\n",
       "      <td>histo</td>\n",
       "      <td>40.0</td>\n",
       "      <td>male</td>\n",
       "      <td>abdomen</td>\n",
       "      <td>vidir_modern</td>\n",
       "      <td>data/HAM10000_images_part_2/ISIC_0033550.jpg</td>\n",
       "      <td>Actinic keratoses</td>\n",
       "      <td>0</td>\n",
       "    </tr>\n",
       "    <tr>\n",
       "      <th>10012</th>\n",
       "      <td>HAM_0002867</td>\n",
       "      <td>ISIC_0033536</td>\n",
       "      <td>akiec</td>\n",
       "      <td>histo</td>\n",
       "      <td>40.0</td>\n",
       "      <td>male</td>\n",
       "      <td>abdomen</td>\n",
       "      <td>vidir_modern</td>\n",
       "      <td>data/HAM10000_images_part_2/ISIC_0033536.jpg</td>\n",
       "      <td>Actinic keratoses</td>\n",
       "      <td>0</td>\n",
       "    </tr>\n",
       "    <tr>\n",
       "      <th>10013</th>\n",
       "      <td>HAM_0000239</td>\n",
       "      <td>ISIC_0032854</td>\n",
       "      <td>akiec</td>\n",
       "      <td>histo</td>\n",
       "      <td>80.0</td>\n",
       "      <td>male</td>\n",
       "      <td>face</td>\n",
       "      <td>vidir_modern</td>\n",
       "      <td>data/HAM10000_images_part_2/ISIC_0032854.jpg</td>\n",
       "      <td>Actinic keratoses</td>\n",
       "      <td>0</td>\n",
       "    </tr>\n",
       "    <tr>\n",
       "      <th>10014</th>\n",
       "      <td>HAM_0003521</td>\n",
       "      <td>ISIC_0032258</td>\n",
       "      <td>mel</td>\n",
       "      <td>histo</td>\n",
       "      <td>70.0</td>\n",
       "      <td>female</td>\n",
       "      <td>back</td>\n",
       "      <td>vidir_modern</td>\n",
       "      <td>data/HAM10000_images_part_2/ISIC_0032258.jpg</td>\n",
       "      <td>dermatofibroma</td>\n",
       "      <td>4</td>\n",
       "    </tr>\n",
       "  </tbody>\n",
       "</table>\n",
       "</div>"
      ],
      "text/plain": [
       "         lesion_id      image_id     dx dx_type   age     sex localization  \\\n",
       "10010  HAM_0002867  ISIC_0033084  akiec   histo  40.0    male      abdomen   \n",
       "10011  HAM_0002867  ISIC_0033550  akiec   histo  40.0    male      abdomen   \n",
       "10012  HAM_0002867  ISIC_0033536  akiec   histo  40.0    male      abdomen   \n",
       "10013  HAM_0000239  ISIC_0032854  akiec   histo  80.0    male         face   \n",
       "10014  HAM_0003521  ISIC_0032258    mel   histo  70.0  female         back   \n",
       "\n",
       "            dataset                                          path  \\\n",
       "10010  vidir_modern  data/HAM10000_images_part_2/ISIC_0033084.jpg   \n",
       "10011  vidir_modern  data/HAM10000_images_part_2/ISIC_0033550.jpg   \n",
       "10012  vidir_modern  data/HAM10000_images_part_2/ISIC_0033536.jpg   \n",
       "10013  vidir_modern  data/HAM10000_images_part_2/ISIC_0032854.jpg   \n",
       "10014  vidir_modern  data/HAM10000_images_part_2/ISIC_0032258.jpg   \n",
       "\n",
       "             lesion_type  lesion_type_id  \n",
       "10010  Actinic keratoses               0  \n",
       "10011  Actinic keratoses               0  \n",
       "10012  Actinic keratoses               0  \n",
       "10013  Actinic keratoses               0  \n",
       "10014     dermatofibroma               4  "
      ]
     },
     "execution_count": 2,
     "metadata": {},
     "output_type": "execute_result"
    }
   ],
   "source": [
    "DATA_DIR = 'data'\n",
    "\n",
    "lesion_type = {\n",
    "    'akiec': 'Actinic keratoses',\n",
    "    'bcc': 'Basal cell carcinoma',\n",
    "    'bkl': 'Benign keratosis-like lesions ',\n",
    "    'df': 'Dermatofibroma',\n",
    "    'mel': 'dermatofibroma',\n",
    "    'nv': 'Melanocytic nevi',\n",
    "    'vasc': 'Vascular lesions',\n",
    "}\n",
    "\n",
    "image_paths = glob(os.path.join(DATA_DIR, '*', '*.jpg'))\n",
    "image_paths_dict_map = {os.path.splitext(os.path.basename(p))[0]: p for p in image_paths}\n",
    "\n",
    "df = pd.read_csv(os.path.join(DATA_DIR, 'HAM10000_metadata'))\n",
    "\n",
    "df['path'] = df['image_id'].map(image_paths_dict_map.get)\n",
    "df['lesion_type'] = df['dx'].map(lesion_type.get)\n",
    "df['lesion_type_id'] = pd.Categorical(df['dx']).codes\n",
    "\n",
    "df.tail()"
   ]
  },
  {
   "cell_type": "markdown",
   "id": "a6947e60-3fac-4880-b24d-1ff0e0f7684c",
   "metadata": {
    "execution": {
     "iopub.execute_input": "2024-06-05T00:06:31.116496Z",
     "iopub.status.busy": "2024-06-05T00:06:31.116347Z",
     "iopub.status.idle": "2024-06-05T00:06:31.123098Z",
     "shell.execute_reply": "2024-06-05T00:06:31.122904Z",
     "shell.execute_reply.started": "2024-06-05T00:06:31.116487Z"
    }
   },
   "source": [
    "## Handling Duplicated Lesion Images\n",
    "\n",
    "This dataset contains duplicated images (the same lesion may have more than one image associated to it).\n",
    "Since duplicated samples have no use in the model evaluation, we are getting rid of them for the\n",
    "validation and test sets."
   ]
  },
  {
   "cell_type": "code",
   "execution_count": 3,
   "id": "84d364f3-d660-4a97-ac53-3dc7cbba392f",
   "metadata": {
    "execution": {
     "iopub.execute_input": "2024-06-05T00:22:24.031963Z",
     "iopub.status.busy": "2024-06-05T00:22:24.031884Z",
     "iopub.status.idle": "2024-06-05T00:22:24.099320Z",
     "shell.execute_reply": "2024-06-05T00:22:24.099001Z",
     "shell.execute_reply.started": "2024-06-05T00:22:24.031956Z"
    }
   },
   "outputs": [],
   "source": [
    "images_per_lesion_id = df.groupby(['lesion_id'], as_index=False)['image_id'].count()\n",
    "duplicated_images = images_per_lesion_id.query('image_id > 1')['lesion_id'].values\n",
    "df['duplicated'] = df['lesion_id'].isin(duplicated_images)\n",
    "\n",
    "unduplicated = df.query('duplicated == False')\n",
    "_, df_evaluation = train_test_split(unduplicated, test_size=0.2, stratify=unduplicated['lesion_type_id'])\n",
    "\n",
    "df_train = df.query(\"image_id not in @df_evaluation['image_id']\").copy()\n",
    "\n",
    "# this evaluatino \"placeholder\" is now split into the validation and test sets\n",
    "df_valid, df_test = train_test_split(df_evaluation, test_size=0.5, stratify=df_evaluation['lesion_type_id'])"
   ]
  },
  {
   "cell_type": "markdown",
   "id": "c18c1e01-86ed-41ad-93aa-811cf453c1a3",
   "metadata": {},
   "source": [
    "## Rebalancing classes for the training set\n",
    "\n",
    "Fixing unbalanced classes in training by augmenting (in this case copying)\n",
    "each image in the respective class by the proportion indicated in `correction_proportions`.\n",
    "The ideia here is to replicate less frequent class samples until the number of\n",
    "samples per class is nearly the same."
   ]
  },
  {
   "cell_type": "code",
   "execution_count": 4,
   "id": "684c80b2-6619-4fc3-99ee-96d3500c690a",
   "metadata": {
    "execution": {
     "iopub.execute_input": "2024-06-05T00:22:24.099692Z",
     "iopub.status.busy": "2024-06-05T00:22:24.099622Z",
     "iopub.status.idle": "2024-06-05T00:22:24.119818Z",
     "shell.execute_reply": "2024-06-05T00:22:24.119603Z",
     "shell.execute_reply.started": "2024-06-05T00:22:24.099685Z"
    }
   },
   "outputs": [
    {
     "name": "stdout",
     "output_type": "stream",
     "text": [
      "training set before augmentation:  (8912, 12)\n",
      "training set after augmentation:  (39186, 12)\n"
     ]
    }
   ],
   "source": [
    "class_counts = df_train['lesion_type_id'].value_counts()\n",
    "class_rebalance_proportions = (\n",
    "    (1 / (class_counts / class_counts.max()) - 1)\n",
    "    .astype(int)\n",
    "    .to_dict() # initially this is returned as a pandas zseries\n",
    ")\n",
    "\n",
    "print(\"training set before augmentation: \", df_train.shape)\n",
    "\n",
    "for lesion_type_id, proportion in class_rebalance_proportions.items():\n",
    "    if proportion > 0:\n",
    "        repeated_rows = pd.concat([df_train.query('lesion_type_id == @lesion_type_id')] * proportion)\n",
    "        df_train = pd.concat([df_train, repeated_rows], ignore_index=True)\n",
    "\n",
    "print(\"training set after augmentation: \", df_train.shape)"
   ]
  },
  {
   "cell_type": "code",
   "execution_count": 5,
   "id": "fab3413f-d9d2-40ca-b45f-cfdc6eb351c1",
   "metadata": {
    "execution": {
     "iopub.execute_input": "2024-06-05T00:22:24.120246Z",
     "iopub.status.busy": "2024-06-05T00:22:24.120150Z",
     "iopub.status.idle": "2024-06-05T00:22:24.127741Z",
     "shell.execute_reply": "2024-06-05T00:22:24.127551Z",
     "shell.execute_reply.started": "2024-06-05T00:22:24.120238Z"
    }
   },
   "outputs": [
    {
     "data": {
      "text/plain": [
       "lesion_type_id\n",
       "5    5822\n",
       "6    5805\n",
       "3    5778\n",
       "1    5748\n",
       "0    5643\n",
       "4    5335\n",
       "2    5055\n",
       "Name: count, dtype: int64"
      ]
     },
     "execution_count": 5,
     "metadata": {},
     "output_type": "execute_result"
    }
   ],
   "source": [
    "df_train['lesion_type_id'].value_counts()"
   ]
  },
  {
   "cell_type": "code",
   "execution_count": 6,
   "id": "16557c85-b4d0-4e83-a64c-738c6752b7c7",
   "metadata": {
    "execution": {
     "iopub.execute_input": "2024-06-05T00:22:24.128083Z",
     "iopub.status.busy": "2024-06-05T00:22:24.128010Z",
     "iopub.status.idle": "2024-06-05T00:22:24.136621Z",
     "shell.execute_reply": "2024-06-05T00:22:24.136463Z",
     "shell.execute_reply.started": "2024-06-05T00:22:24.128076Z"
    }
   },
   "outputs": [
    {
     "data": {
      "text/plain": [
       "lesion_type_id\n",
       "5    441\n",
       "2     44\n",
       "4     23\n",
       "1     17\n",
       "0     15\n",
       "6      7\n",
       "3      4\n",
       "Name: count, dtype: int64"
      ]
     },
     "execution_count": 6,
     "metadata": {},
     "output_type": "execute_result"
    }
   ],
   "source": [
    "df_valid['lesion_type_id'].value_counts()"
   ]
  },
  {
   "cell_type": "code",
   "execution_count": 7,
   "id": "8fcd9eb0-8e52-48b3-a8ff-0a4f0b3185e5",
   "metadata": {
    "execution": {
     "iopub.execute_input": "2024-06-05T00:22:24.136950Z",
     "iopub.status.busy": "2024-06-05T00:22:24.136878Z",
     "iopub.status.idle": "2024-06-05T00:22:24.145670Z",
     "shell.execute_reply": "2024-06-05T00:22:24.145508Z",
     "shell.execute_reply.started": "2024-06-05T00:22:24.136944Z"
    }
   },
   "outputs": [
    {
     "data": {
      "text/plain": [
       "lesion_type_id\n",
       "5    442\n",
       "2     44\n",
       "4     23\n",
       "1     18\n",
       "0     15\n",
       "6      6\n",
       "3      4\n",
       "Name: count, dtype: int64"
      ]
     },
     "execution_count": 7,
     "metadata": {},
     "output_type": "execute_result"
    }
   ],
   "source": [
    "df_test['lesion_type_id'].value_counts()"
   ]
  },
  {
   "cell_type": "code",
   "execution_count": 8,
   "id": "f1a8d067-3f60-4787-a7ff-e3213d4c4800",
   "metadata": {
    "execution": {
     "iopub.execute_input": "2024-06-05T00:22:24.146002Z",
     "iopub.status.busy": "2024-06-05T00:22:24.145934Z",
     "iopub.status.idle": "2024-06-05T00:22:24.230157Z",
     "shell.execute_reply": "2024-06-05T00:22:24.229945Z",
     "shell.execute_reply.started": "2024-06-05T00:22:24.145995Z"
    }
   },
   "outputs": [],
   "source": [
    "if not os.path.exists('artifacts'):\n",
    "    os.mkdir('./artifacts')\n",
    "\n",
    "df_train.to_csv(os.path.join('artifacts', 'df_train.csv'), index=False)\n",
    "df_valid.to_csv(os.path.join('artifacts', 'df_valid.csv'), index=False)\n",
    "df_test.to_csv(os.path.join('artifacts', 'df_test.csv'), index=False)"
   ]
  }
 ],
 "metadata": {
  "kernelspec": {
   "display_name": "Python 3 (ipykernel)",
   "language": "python",
   "name": "python3"
  },
  "language_info": {
   "codemirror_mode": {
    "name": "ipython",
    "version": 3
   },
   "file_extension": ".py",
   "mimetype": "text/x-python",
   "name": "python",
   "nbconvert_exporter": "python",
   "pygments_lexer": "ipython3",
   "version": "3.12.3"
  }
 },
 "nbformat": 4,
 "nbformat_minor": 5
}
