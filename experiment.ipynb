{
 "cells": [
  {
   "cell_type": "code",
   "execution_count": 4,
   "id": "9dbbb620-ec40-4c7a-9d92-4301ff00e937",
   "metadata": {
    "execution": {
     "iopub.execute_input": "2024-06-15T12:55:04.433653Z",
     "iopub.status.busy": "2024-06-15T12:55:04.433135Z",
     "iopub.status.idle": "2024-06-15T12:55:04.451949Z",
     "shell.execute_reply": "2024-06-15T12:55:04.451682Z",
     "shell.execute_reply.started": "2024-06-15T12:55:04.433640Z"
    }
   },
   "outputs": [],
   "source": [
    "%load_ext autoreload\n",
    "%autoreload 2"
   ]
  },
  {
   "cell_type": "code",
   "execution_count": 8,
   "id": "9ff0087a-fe17-4621-879a-452bf21661ab",
   "metadata": {
    "execution": {
     "iopub.execute_input": "2024-06-15T12:56:01.536719Z",
     "iopub.status.busy": "2024-06-15T12:56:01.536559Z",
     "iopub.status.idle": "2024-06-15T12:56:01.547202Z",
     "shell.execute_reply": "2024-06-15T12:56:01.546927Z",
     "shell.execute_reply.started": "2024-06-15T12:56:01.536711Z"
    }
   },
   "outputs": [],
   "source": [
    "import os\n",
    "from datetime import datetime\n",
    "\n",
    "import pandas as pd\n",
    "import torch\n",
    "from PIL import Image\n",
    "from torch.utils.data import DataLoader\n",
    "from torchvision.transforms import v2\n",
    "from torch import nn, optim\n",
    "\n",
    "from src.dataset import utils\n",
    "from src.dataset.harvard_skin_cancer import HarvardSkinCancerDatasset\n",
    "from src.modeling.base_model import BaseModel\n",
    "from src.modeling.models import DenseNet, Inception, ResNet"
   ]
  },
  {
   "cell_type": "code",
   "execution_count": 6,
   "id": "f54fe198-b695-4965-822d-fce306b9baa0",
   "metadata": {
    "execution": {
     "iopub.execute_input": "2024-06-15T12:55:06.405026Z",
     "iopub.status.busy": "2024-06-15T12:55:06.404894Z",
     "iopub.status.idle": "2024-06-15T12:55:06.457395Z",
     "shell.execute_reply": "2024-06-15T12:55:06.457001Z",
     "shell.execute_reply.started": "2024-06-15T12:55:06.405017Z"
    }
   },
   "outputs": [],
   "source": [
    "df_train = pd.read_csv('artifacts/df_train.csv')\n",
    "df_valid = pd.read_csv('artifacts/df_valid.csv')\n",
    "df_test = pd.read_csv('artifacts/df_test.csv')"
   ]
  },
  {
   "cell_type": "code",
   "execution_count": 14,
   "id": "9ffc3deb-f1f5-4c3c-a810-5d55c772db9e",
   "metadata": {
    "execution": {
     "iopub.execute_input": "2024-06-15T13:05:51.922187Z",
     "iopub.status.busy": "2024-06-15T13:05:51.921785Z",
     "iopub.status.idle": "2024-06-15T13:05:51.932837Z",
     "shell.execute_reply": "2024-06-15T13:05:51.932580Z",
     "shell.execute_reply.started": "2024-06-15T13:05:51.922174Z"
    }
   },
   "outputs": [],
   "source": [
    "def experiment(\n",
    "    model: BaseModel,\n",
    "    df_train: pd.DataFrame,\n",
    "    df_valid: pd.DataFrame,\n",
    "    df_test: pd.DataFrame,\n",
    "    optimizer,\n",
    "    criterion,\n",
    "    n_epochs: int,\n",
    ") -> None:\n",
    "    means, stds = utils.extract_mean_and_std_from_images(img_paths=df_train['path'].drop_duplicates())\n",
    "    transforms = v2.Compose([\n",
    "        v2.Resize((model.input_size, model.input_size)),\n",
    "        v2.RandomHorizontalFlip(),\n",
    "        v2.RandomVerticalFlip(),\n",
    "        v2.RandomRotation(20),\n",
    "        v2.ColorJitter(brightness=0.1, contrast=0.1, hue=0.1),\n",
    "        v2.ToImage(),\n",
    "        v2.ToDtype(torch.float32, scale=True),\n",
    "        v2.Normalize(mean=means, std=stds),\n",
    "    ])\n",
    "    \n",
    "    train_loader = DataLoader(\n",
    "        dataset=HarvardSkinCancerDatasset(df=df_train, transforms=transforms),\n",
    "        batch_size=64,\n",
    "        shuffle=True,\n",
    "        num_workers=16,\n",
    "    )\n",
    "    valid_loader = DataLoader(\n",
    "        dataset=HarvardSkinCancerDatasset(df=df_valid, transforms=transforms),\n",
    "        batch_size=64,\n",
    "        num_workers=16,\n",
    "    )\n",
    "    test_loader = DataLoader(\n",
    "        dataset=HarvardSkinCancerDatasset(df=df_test, transforms=transforms),\n",
    "        batch_size=64,\n",
    "        num_workers=16,\n",
    "    )\n",
    "\n",
    "    torch.cuda.empty_cache()\n",
    "    model.train(\n",
    "        train_loader=train_loader,\n",
    "        valid_loader=valid_loader,\n",
    "        criterion=criterion,\n",
    "        optimizer=optimizer,\n",
    "        n_epochs=n_epochs,\n",
    "    )\n",
    "    model.evaluate(loader=test_loader, criterion=criterion)\n",
    "    model.save()"
   ]
  },
  {
   "cell_type": "code",
   "execution_count": null,
   "id": "88c4f804-dfe6-46db-aa3d-8dbc235ed167",
   "metadata": {
    "execution": {
     "iopub.status.busy": "2024-06-14T21:02:44.995599Z",
     "iopub.status.idle": "2024-06-14T21:02:44.995699Z",
     "shell.execute_reply": "2024-06-14T21:02:44.995655Z",
     "shell.execute_reply.started": "2024-06-14T21:02:44.995650Z"
    }
   },
   "outputs": [],
   "source": [
    "model.evaluate(loader=test_loader, criterion=criterion)"
   ]
  },
  {
   "cell_type": "code",
   "execution_count": 16,
   "id": "2ca90abc-6368-47b5-b1b9-03055d5fd471",
   "metadata": {
    "execution": {
     "iopub.execute_input": "2024-06-15T13:42:34.532912Z",
     "iopub.status.busy": "2024-06-15T13:42:34.532784Z",
     "iopub.status.idle": "2024-06-15T13:56:42.748517Z",
     "shell.execute_reply": "2024-06-15T13:56:42.748276Z",
     "shell.execute_reply.started": "2024-06-15T13:42:34.532903Z"
    }
   },
   "outputs": [
    {
     "name": "stderr",
     "output_type": "stream",
     "text": [
      "100%|███████████████████████████████████████████████████████████████████████████████████████████████████████████████████████████████████████████| 8912/8912 [00:20<00:00, 437.99it/s]\n"
     ]
    },
    {
     "name": "stdout",
     "output_type": "stream",
     "text": [
      "[epoch 0], [iter 100 / 613], [train loss 1.00433], [train acc 0.63938]\n",
      "[epoch 0], [iter 200 / 613], [train loss 0.87346], [train acc 0.68391]\n",
      "[epoch 0], [iter 300 / 613], [train loss 0.79197], [train acc 0.71406]\n",
      "[epoch 0], [iter 400 / 613], [train loss 0.74644], [train acc 0.72887]\n",
      "[epoch 0], [iter 500 / 613], [train loss 0.70206], [train acc 0.74462]\n",
      "[epoch 0], [iter 600 / 613], [train loss 0.66548], [train acc 0.75745]\n",
      "MODEL_EVALUATION: acc = 0.8179754273504273 loss = 0.5329369670814939\n",
      "[epoch 1], [iter 100 / 613], [train loss 0.46839], [train acc 0.83172]\n",
      "[epoch 1], [iter 200 / 613], [train loss 0.45858], [train acc 0.83359]\n",
      "[epoch 1], [iter 300 / 613], [train loss 0.44004], [train acc 0.83917]\n",
      "[epoch 1], [iter 400 / 613], [train loss 0.42873], [train acc 0.84211]\n",
      "[epoch 1], [iter 500 / 613], [train loss 0.41729], [train acc 0.84556]\n",
      "[epoch 1], [iter 600 / 613], [train loss 0.40691], [train acc 0.84990]\n",
      "MODEL_EVALUATION: acc = 0.8358262108262109 loss = 0.5036375158362918\n",
      "[epoch 2], [iter 100 / 613], [train loss 0.34022], [train acc 0.87469]\n",
      "[epoch 2], [iter 200 / 613], [train loss 0.33191], [train acc 0.87555]\n",
      "[epoch 2], [iter 300 / 613], [train loss 0.31850], [train acc 0.87927]\n",
      "[epoch 2], [iter 400 / 613], [train loss 0.32040], [train acc 0.87984]\n",
      "[epoch 2], [iter 500 / 613], [train loss 0.31511], [train acc 0.88113]\n",
      "[epoch 2], [iter 600 / 613], [train loss 0.30586], [train acc 0.88477]\n",
      "MODEL_EVALUATION: acc = 0.864093660968661 loss = 0.3805802563826243\n",
      "[epoch 3], [iter 100 / 613], [train loss 0.26588], [train acc 0.90344]\n",
      "[epoch 3], [iter 200 / 613], [train loss 0.26115], [train acc 0.90375]\n",
      "[epoch 3], [iter 300 / 613], [train loss 0.26103], [train acc 0.90292]\n",
      "[epoch 3], [iter 400 / 613], [train loss 0.26222], [train acc 0.90262]\n",
      "[epoch 3], [iter 500 / 613], [train loss 0.26498], [train acc 0.90175]\n",
      "[epoch 3], [iter 600 / 613], [train loss 0.25999], [train acc 0.90344]\n",
      "MODEL_EVALUATION: acc = 0.8433938746438747 loss = 0.47362696793344283\n",
      "[epoch 4], [iter 100 / 613], [train loss 0.21098], [train acc 0.92547]\n",
      "[epoch 4], [iter 200 / 613], [train loss 0.20767], [train acc 0.92359]\n",
      "[epoch 4], [iter 300 / 613], [train loss 0.21386], [train acc 0.92068]\n",
      "[epoch 4], [iter 400 / 613], [train loss 0.21503], [train acc 0.92078]\n",
      "[epoch 4], [iter 500 / 613], [train loss 0.21551], [train acc 0.92019]\n",
      "[epoch 4], [iter 600 / 613], [train loss 0.21847], [train acc 0.91880]\n",
      "MODEL_EVALUATION: acc = 0.8809650997150997 loss = 0.42015186117755043\n",
      "[epoch 5], [iter 100 / 613], [train loss 0.21385], [train acc 0.92250]\n",
      "[epoch 5], [iter 200 / 613], [train loss 0.20076], [train acc 0.92758]\n",
      "[epoch 5], [iter 300 / 613], [train loss 0.19692], [train acc 0.92797]\n",
      "[epoch 5], [iter 400 / 613], [train loss 0.19624], [train acc 0.92812]\n",
      "[epoch 5], [iter 500 / 613], [train loss 0.19599], [train acc 0.92809]\n",
      "[epoch 5], [iter 600 / 613], [train loss 0.19486], [train acc 0.92826]\n",
      "MODEL_EVALUATION: acc = 0.8746438746438747 loss = 0.47501981423960793\n",
      "[epoch 6], [iter 100 / 613], [train loss 0.15258], [train acc 0.94016]\n",
      "[epoch 6], [iter 200 / 613], [train loss 0.15151], [train acc 0.94156]\n",
      "[epoch 6], [iter 300 / 613], [train loss 0.15760], [train acc 0.93979]\n",
      "[epoch 6], [iter 400 / 613], [train loss 0.15696], [train acc 0.94035]\n",
      "[epoch 6], [iter 500 / 613], [train loss 0.16008], [train acc 0.94022]\n",
      "[epoch 6], [iter 600 / 613], [train loss 0.16109], [train acc 0.94005]\n",
      "MODEL_EVALUATION: acc = 0.9081196581196581 loss = 0.3683355765210258\n",
      "[epoch 7], [iter 100 / 613], [train loss 0.18667], [train acc 0.93047]\n",
      "[epoch 7], [iter 200 / 613], [train loss 0.16215], [train acc 0.93914]\n",
      "[epoch 7], [iter 300 / 613], [train loss 0.15360], [train acc 0.94276]\n",
      "[epoch 7], [iter 400 / 613], [train loss 0.15749], [train acc 0.94195]\n",
      "[epoch 7], [iter 500 / 613], [train loss 0.15339], [train acc 0.94325]\n",
      "[epoch 7], [iter 600 / 613], [train loss 0.15186], [train acc 0.94359]\n",
      "MODEL_EVALUATION: acc = 0.8776264245014245 loss = 0.47485142946243286\n",
      "MODEL_EVALUATION: acc = 0.8815972222222223 loss = 0.40635453992419773\n"
     ]
    }
   ],
   "source": [
    "model = Inception(n_classes = df_train['lesion_type_id'].nunique(), extract_features=True)\n",
    "\n",
    "optimizer = optim.Adam(model.parameters())\n",
    "criterion = nn.CrossEntropyLoss()\n",
    "\n",
    "experiment(\n",
    "    model=model,\n",
    "    optimizer=optim.Adam(model.parameters()),\n",
    "    criterion=nn.CrossEntropyLoss(),\n",
    "    df_train=df_train,\n",
    "    df_valid=df_valid,\n",
    "    df_test=df_test,\n",
    "    n_epochs=8,\n",
    ")"
   ]
  },
  {
   "cell_type": "code",
   "execution_count": null,
   "id": "039dfd73-e475-4850-be3e-359c3679d704",
   "metadata": {
    "execution": {
     "iopub.status.busy": "2024-06-14T21:02:44.995892Z",
     "iopub.status.idle": "2024-06-14T21:02:44.995967Z",
     "shell.execute_reply": "2024-06-14T21:02:44.995933Z",
     "shell.execute_reply.started": "2024-06-14T21:02:44.995930Z"
    }
   },
   "outputs": [],
   "source": [
    "model.device"
   ]
  },
  {
   "cell_type": "code",
   "execution_count": null,
   "id": "99325e17-d983-4cbd-9c31-2744de81e921",
   "metadata": {
    "execution": {
     "iopub.status.busy": "2024-06-14T21:02:44.996269Z",
     "iopub.status.idle": "2024-06-14T21:02:44.996340Z",
     "shell.execute_reply": "2024-06-14T21:02:44.996308Z",
     "shell.execute_reply.started": "2024-06-14T21:02:44.996304Z"
    }
   },
   "outputs": [],
   "source": [
    "image = None\n",
    "\n",
    "for (images, _) in train_loader:\n",
    "    image = images\n",
    "    break"
   ]
  },
  {
   "cell_type": "code",
   "execution_count": null,
   "id": "c88aa697-f3f2-4219-8c1c-4639e7fdc48e",
   "metadata": {
    "execution": {
     "iopub.status.busy": "2024-06-14T21:02:44.996508Z",
     "iopub.status.idle": "2024-06-14T21:02:44.996579Z",
     "shell.execute_reply": "2024-06-14T21:02:44.996547Z",
     "shell.execute_reply.started": "2024-06-14T21:02:44.996543Z"
    }
   },
   "outputs": [],
   "source": [
    "torch.cuda.empty_cache()\n",
    "#image = image.to(model.device)\n",
    "#model.predict(image)\n",
    "#del model"
   ]
  },
  {
   "cell_type": "code",
   "execution_count": null,
   "id": "93d2b93e-fa6f-435f-a8e0-4a0274059bc5",
   "metadata": {
    "execution": {
     "iopub.status.busy": "2024-06-14T21:02:44.996832Z",
     "iopub.status.idle": "2024-06-14T21:02:44.996903Z",
     "shell.execute_reply": "2024-06-14T21:02:44.996869Z",
     "shell.execute_reply.started": "2024-06-14T21:02:44.996866Z"
    }
   },
   "outputs": [],
   "source": [
    "for (images, _) in train_loader:\n",
    "    images = images.to(model.device)\n",
    "    print(model.predict(images))\n",
    "    break"
   ]
  }
 ],
 "metadata": {
  "kernelspec": {
   "display_name": "Python 3 (ipykernel)",
   "language": "python",
   "name": "python3"
  },
  "language_info": {
   "codemirror_mode": {
    "name": "ipython",
    "version": 3
   },
   "file_extension": ".py",
   "mimetype": "text/x-python",
   "name": "python",
   "nbconvert_exporter": "python",
   "pygments_lexer": "ipython3",
   "version": "3.12.3"
  }
 },
 "nbformat": 4,
 "nbformat_minor": 5
}
